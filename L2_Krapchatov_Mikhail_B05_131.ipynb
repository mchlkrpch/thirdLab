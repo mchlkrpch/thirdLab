{
 "cells": [
  {
   "cell_type": "markdown",
   "id": "933245ee-a943-43c7-911f-248fb98a3559",
   "metadata": {},
   "source": [
    "## Gauss–Seidel method | Lab №2\n",
    "> Attention! Matrix multiplication, inversion using cycles.\n",
    "\n",
    "My program should\n",
    "1. Solve linear system $\\left(\\text{on } \\mathbb{R}\\right)$: $\\quad Ax = b, A = A^T > 0$\n",
    "2. Contain function `solve(A, b, max_iter, tol)`$= (x^{(N)},$ n_iters, eps$)$, where\n",
    "    - $A$ - matrix of system\n",
    "    - $b$ - bias vector\n",
    "    - `max_iter` - maximal number of interations\n",
    "    - `tol` - restriction for norm of the difference vector: $\\|x^{(k + 1)} - x^{(k)}\\| \\leqslant tol$\n",
    "    - $x^{(N)}$ final output\n",
    "    - `n_iters` number of iterations to get solutions\n",
    "    - `eps` final difference with true solution _(compared to the `linalg.solve` solution)_\n",
    "3. Draw plot: x axis - number of iteration, y axis - $\\operatorname{log(tol)}$\n",
    "4. Estimate worktime. _use @jit for acceleration_"
   ]
  },
  {
   "cell_type": "markdown",
   "id": "a06b09d2-c76c-4560-b9d0-4aa59234e1d8",
   "metadata": {},
   "source": [
    "## Generator of matrices"
   ]
  },
  {
   "cell_type": "code",
   "execution_count": 1,
   "id": "4a2f8f1d-46c0-4944-bf74-ed3ae951bfe9",
   "metadata": {},
   "outputs": [],
   "source": [
    "import numpy as np\n",
    "import matplotlib.pyplot as plt\n",
    "from timeit import default_timer as timer\n",
    "\n",
    "# For acceleration of the program\n",
    "from numba import jit, njit"
   ]
  },
  {
   "cell_type": "code",
   "execution_count": 2,
   "id": "1f544573-3a90-4e6b-b4a8-391a85f0300f",
   "metadata": {},
   "outputs": [
    {
     "name": "stdout",
     "output_type": "stream",
     "text": [
      "[[2.27644186 1.55043208 1.60276314 1.01069208 1.36109804 1.31053697]\n",
      " [1.55043208 4.2297401  2.93422421 1.8298223  2.2990792  1.99008778]\n",
      " [1.60276314 2.93422421 4.40855021 1.91920535 3.09155571 2.11479316]\n",
      " [1.01069208 1.8298223  1.91920535 3.39847954 2.07795996 1.97729717]\n",
      " [1.36109804 2.2990792  3.09155571 2.07795996 4.14083917 2.08169727]\n",
      " [1.31053697 1.99008778 2.11479316 1.97729717 2.08169727 3.08604761]]\n"
     ]
    }
   ],
   "source": [
    "# Multiply matrices for dot prod for SDP mat generator\n",
    "@jit\n",
    "def myMatMul(A, B):\n",
    "    result = []\n",
    "    for i in range(len(A)):\n",
    "        row = []\n",
    "        \n",
    "        for j in range(len(B[0])):\n",
    "            product = 0\n",
    "            for v in range(len(A[i])):\n",
    "                product += A[i][v] * B[v][j]\n",
    "            row.append(product)\n",
    "            \n",
    "        result.append(row)\n",
    "    return result\n",
    "\n",
    "# Symmetric positively defined matrix generator\n",
    "def getSDPmat(dim=4):\n",
    "    A = np.random.rand(dim, dim)\n",
    "    return myMatMul(A, A.transpose()) + np.identity(dim)\n",
    "\n",
    "# Generate random equation:\n",
    "# Ax = b, where A = A^T and A positively defined\n",
    "def getEquation(dim=4):\n",
    "    A = getSDPmat(dim)\n",
    "    b = np.random.rand(dim)\n",
    "    return A,b\n",
    "\n",
    "# \n",
    "print(getSDPmat(6))"
   ]
  },
  {
   "cell_type": "markdown",
   "id": "e6a47e04-3020-478c-b0b1-a227367141ab",
   "metadata": {},
   "source": [
    "## Seidel implementation\n",
    "Common Seidel method"
   ]
  },
  {
   "cell_type": "code",
   "execution_count": 3,
   "id": "720dd13f-7a25-4d38-a67b-d5b1951a85a1",
   "metadata": {},
   "outputs": [],
   "source": [
    "@njit\n",
    "def mysum(xs):\n",
    "    tmp = 0\n",
    "    for x in xs:\n",
    "        tmp += x\n",
    "\n",
    "    return tmp\n",
    "    \n",
    "@njit\n",
    "def calcNewX(x, n):\n",
    "    x_new = x\n",
    "    for i in range(n):\n",
    "        s1 = mysum([A[i][j] * x_new[j] for j in range(i)])\n",
    "        s2 = mysum([A[i][j] * x[j] for j in range(i + 1, n)])\n",
    "        x_new[i] = (b[i] - s1 - s2) / A[i][i]\n",
    "    return x_new\n",
    "\n",
    "def seidel(A, b, max_iter=300, eps=0.001):\n",
    "    sz = len(A)\n",
    "    x = np.zeros(sz)\n",
    "    accuracy_trace = []\n",
    "    n = 0\n",
    "\n",
    "    L, D, R = getLowerPart(A), getDiagPart(A), getUpperPart(A)\n",
    "    \n",
    "    converge = False\n",
    "    while not converge:\n",
    "        n += 1\n",
    "        # @jit optimization\n",
    "        x_new = calcNewX(np.copy(x), sz)\n",
    "\n",
    "        converge = np.linalg.norm(x_new - x) <= eps\n",
    "        accuracy_trace.append(np.linalg.norm(x_new - x))\n",
    "        x = x_new\n",
    "        if n > max_iter:\n",
    "            break;\n",
    "\n",
    "    return x, sz, accuracy_trace"
   ]
  },
  {
   "cell_type": "code",
   "execution_count": 4,
   "id": "ab26e959-1739-4aa7-837b-9f371978976a",
   "metadata": {},
   "outputs": [
    {
     "name": "stdout",
     "output_type": "stream",
     "text": [
      "[ 0.18731542  0.71661469 -0.01542241] diff: 1.315090895684285e-08\n"
     ]
    }
   ],
   "source": [
    "def getDiagPart(A):\n",
    "    assert A.shape[0] == A.shape[1]\n",
    "    D = np.zeros([A.shape[0], A.shape[1]])    \n",
    "    for i in range(A.shape[0]):\n",
    "        D[i,i] = A[i,i]\n",
    "    return np.array(D)\n",
    "\n",
    "def getUpperPart(A):\n",
    "    assert A.shape[0] == A.shape[1]\n",
    "    R = np.zeros([A.shape[0], A.shape[1]])    \n",
    "    for i in range(A.shape[0] - 1):\n",
    "        for j in range(i + 1, A.shape[1]):\n",
    "            R[i,j] = A[i,j]\n",
    "    return np.array(R)\n",
    "\n",
    "def getLowerPart(A):\n",
    "    assert A.shape[0] == A.shape[1]\n",
    "    R = np.zeros([A.shape[0], A.shape[1]])    \n",
    "    for i in range(1, A.shape[0]):\n",
    "        for j in range(i):\n",
    "            R[i,j] = A[i,j]\n",
    "    return np.array(R)\n",
    "\n",
    "def invL(L):\n",
    "    n = len(L)\n",
    "    result = np.eye(n)\n",
    "    for k in range(n):\n",
    "        for j in range(n):\n",
    "            for i in range(k):\n",
    "                result[k][j] -= result[i][j] * L[k][i]\n",
    "            result[k][j] /= L[k][k]\n",
    "    return result\n",
    "\n",
    "# A - symmetric matrix\n",
    "# b - bias vector\n",
    "# eps - epsilon value for difference vector norm\n",
    "def symmetricSeidel(A, b, max_iter=300, eps=0.001):\n",
    "    sz = len(A)\n",
    "    x = np.zeros(sz)\n",
    "    accuracy_trace = []\n",
    "    n = 0\n",
    "\n",
    "    L, D, R = getLowerPart(A), getDiagPart(A), getUpperPart(A)\n",
    "    \n",
    "    converge = False\n",
    "    while not converge:\n",
    "        n += 1\n",
    "        # @jit optimization\n",
    "        xk = np.copy(x)\n",
    "        # xk = np.zeros([len(x), 1])\n",
    "        # print(np.array([xk]).reshape(-1,1))\n",
    "        # xk05  = xk   + invL(D + L) @ (b - myMatMul(A, np.array([xk]).T))\n",
    "        xk05  = xk   + invL(D + L) @ (b - A @ xk)\n",
    "        U = D + R\n",
    "        x_new = xk05 + invL(U.T).T @ (b - A @ xk05)\n",
    "\n",
    "        converge = np.linalg.norm(x_new - x) <= eps\n",
    "        accuracy_trace.append(np.linalg.norm(x_new - x))\n",
    "        x = x_new\n",
    "        if n > max_iter:\n",
    "            break;\n",
    "\n",
    "    return x, sz, accuracy_trace\n",
    "\n",
    "A, b = getEquation(3)\n",
    "eps = 0.000001\n",
    "x, n, norm = symmetricSeidel(A, b, 800, eps)\n",
    "print(x, \"diff:\", np.linalg.norm(np.linalg.solve(A,b) - x))"
   ]
  },
  {
   "cell_type": "code",
   "execution_count": 5,
   "id": "c76bfe16-b2d3-4eb1-9107-beb90c802acf",
   "metadata": {},
   "outputs": [
    {
     "name": "stdout",
     "output_type": "stream",
     "text": [
      "norm: 0.0006065366804520923\n",
      "My program res: 6.2994311379952705\n",
      "My program res: 0.000521470996318385\n"
     ]
    }
   ],
   "source": [
    "A, b = getEquation(20)\n",
    "eps = 0.00001\n",
    "\n",
    "my_method_start = timer()\n",
    "x, n, norm = symmetricSeidel(A, b, 400, eps)\n",
    "my_method_end = timer()\n",
    "\n",
    "linalg_start = timer()\n",
    "trueSol = np.linalg.solve(A, b)\n",
    "linalg_end = timer()\n",
    "\n",
    "# without jit: 6.310817775000032\n",
    "print(\"norm:\", np.linalg.norm(x - trueSol))\n",
    "print('My program res:', my_method_end - my_method_start)\n",
    "print('My program res:', linalg_end    - linalg_start)"
   ]
  },
  {
   "cell_type": "code",
   "execution_count": 6,
   "id": "6c51d378-825a-4d88-8905-904ad09d2431",
   "metadata": {},
   "outputs": [
    {
     "data": {
      "image/png": "[encoded data removed]",
      "text/plain": [
       "<Figure size 1500x700 with 1 Axes>"
      ]
     },
     "metadata": {},
     "output_type": "display_data"
    }
   ],
   "source": [
    "plt.style.use(\"Solarize_Light2\")\n",
    "plt.figure(figsize=(15,7))\n",
    "plt.plot(np.arange(len(norm)), np.log(norm))\n",
    "\n",
    "plt.title(\"Accuracy of Seidel Method\")\n",
    "plt.ylabel('Log|x^(k+1) - x^k|')\n",
    "plt.xlabel('iteration')\n",
    "\n",
    "plt.show()"
   ]
  },
  {
   "cell_type": "markdown",
   "id": "72cedadc-b394-41ba-9434-bb03e3cbc301",
   "metadata": {},
   "source": [
    "### References\n",
    "- Wiki article about Gauss-Seidel method[$^{[0]}$](https://en.wikipedia.org/wiki/Gauss%E2%80%93Seidel_method)\n",
    "- Simple way to generate `SDP`-matrix[$^{[1]}$](https://math.stackexchange.com/questions/357980/how-to-generate-random-symmetric-positive-definite-matrices-using-matlab)"
   ]
  }
 ],
 "metadata": {
  "kernelspec": {
   "display_name": "Python 3 (ipykernel)",
   "language": "python",
   "name": "python3"
  },
  "language_info": {
   "codemirror_mode": {
    "name": "ipython",
    "version": 3
   },
   "file_extension": ".py",
   "mimetype": "text/x-python",
   "name": "python",
   "nbconvert_exporter": "python",
   "pygments_lexer": "ipython3",
   "version": "3.10.12"
  }
 },
 "nbformat": 4,
 "nbformat_minor": 5
}
